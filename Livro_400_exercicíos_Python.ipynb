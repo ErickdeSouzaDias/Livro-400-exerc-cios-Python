{
  "nbformat": 4,
  "nbformat_minor": 0,
  "metadata": {
    "colab": {
      "provenance": [],
      "authorship_tag": "ABX9TyOA7k+XDCUEKh0EK6kGx2ND",
      "include_colab_link": true
    },
    "kernelspec": {
      "name": "python3",
      "display_name": "Python 3"
    },
    "language_info": {
      "name": "python"
    }
  },
  "cells": [
    {
      "cell_type": "markdown",
      "metadata": {
        "id": "view-in-github",
        "colab_type": "text"
      },
      "source": [
        "<a href=\"https://colab.research.google.com/github/ErickdeSouzaDias/Livro-400-exercicios-Python/blob/main/Livro_400_exercic%C3%ADos_Python.ipynb\" target=\"_parent\"><img src=\"https://colab.research.google.com/assets/colab-badge.svg\" alt=\"Open In Colab\"/></a>"
      ]
    },
    {
      "cell_type": "markdown",
      "source": [
        "1 - Crie três variáveis com três tipos de dados diferentes, respeitando sua sintaxe:"
      ],
      "metadata": {
        "id": "SQUX3jmMSwRm"
      }
    },
    {
      "cell_type": "code",
      "source": [
        "nome, sobrenome = \"Érick\", \"De Souza Dias\" # Tipo str\n",
        "print(nome + sobrenome)\n",
        "casado = False # Tipo bool\n",
        "print(\"É casado?\", casado)\n",
        "idade = 22 # Tipo int\n",
        "print(\"Minha idade é\", idade, \"anos.\")"
      ],
      "metadata": {
        "colab": {
          "base_uri": "https://localhost:8080/"
        },
        "id": "RI3qWlQmS91O",
        "outputId": "0f2a3959-986c-442b-d9b2-c6282b21a5ec"
      },
      "execution_count": null,
      "outputs": [
        {
          "output_type": "stream",
          "name": "stdout",
          "text": [
            "ÉrickDe Souza Dias\n",
            "É casado?  False\n",
            "Minha idade é 22 anos.\n"
          ]
        }
      ]
    },
    {
      "cell_type": "markdown",
      "source": [
        "2 - Crie um comentário de no máximo uma linha"
      ],
      "metadata": {
        "id": "HfUQJ-8gT-Qs"
      }
    },
    {
      "cell_type": "code",
      "source": [
        "# Isso é um comentário"
      ],
      "metadata": {
        "id": "Y_e7GE1LUEGl"
      },
      "execution_count": null,
      "outputs": []
    },
    {
      "cell_type": "markdown",
      "source": [
        "3 - Crie um comentário de mais de uma linha"
      ],
      "metadata": {
        "id": "jjnxnSmRUH-h"
      }
    },
    {
      "cell_type": "code",
      "source": [
        "'''Isso é um comentário\n",
        "de mais de\n",
        "uma linha\n",
        "como você\n",
        "pode ver'''"
      ],
      "metadata": {
        "colab": {
          "base_uri": "https://localhost:8080/",
          "height": 35
        },
        "id": "VdFbyA5PUQb4",
        "outputId": "558d4329-3051-49c8-f114-421f525cb82e"
      },
      "execution_count": null,
      "outputs": [
        {
          "output_type": "execute_result",
          "data": {
            "text/plain": [
              "'Isso é um comentário\\nde mais de\\numa linha\\ncomo você\\npode ver'"
            ],
            "application/vnd.google.colaboratory.intrinsic+json": {
              "type": "string"
            }
          },
          "metadata": {},
          "execution_count": 4
        }
      ]
    },
    {
      "cell_type": "markdown",
      "source": [
        "4 - Escreva um programa que mostre em tela a mensagem: Olá mundo!!!"
      ],
      "metadata": {
        "id": "2hCy3HBIUd6G"
      }
    },
    {
      "cell_type": "code",
      "source": [
        "print(\"Olá, mundo!!!\")"
      ],
      "metadata": {
        "colab": {
          "base_uri": "https://localhost:8080/"
        },
        "id": "3nnV9VuBUnAZ",
        "outputId": "8ab20120-6571-4b0a-cd53-a97b606e82bd"
      },
      "execution_count": null,
      "outputs": [
        {
          "output_type": "stream",
          "name": "stdout",
          "text": [
            "Olá, mundo!!!\n"
          ]
        }
      ]
    },
    {
      "cell_type": "markdown",
      "source": [
        "5 - Crie uma váriável nome e atribua para a mesma um nome digitado pelo usuário:"
      ],
      "metadata": {
        "id": "c3doIUIAUtbb"
      }
    },
    {
      "cell_type": "code",
      "source": [
        "nome = str(input(\"Digite seu nome:\"))"
      ],
      "metadata": {
        "colab": {
          "base_uri": "https://localhost:8080/"
        },
        "id": "i5xT2eaOU8wC",
        "outputId": "006eaf9e-f002-4101-f81d-97f8d201700e"
      },
      "execution_count": null,
      "outputs": [
        {
          "name": "stdout",
          "output_type": "stream",
          "text": [
            "Digite seu nome:João\n"
          ]
        }
      ]
    },
    {
      "cell_type": "markdown",
      "source": [
        "6 - Exiba em tela o valor e o tipo de dado da variável num1: Sendo num1 = 1987."
      ],
      "metadata": {
        "id": "mFNV_6JcVKW9"
      }
    },
    {
      "cell_type": "code",
      "source": [
        "num1 = 1987\n",
        "print(\"O valor de num1 é\", num1, \", sendo do tipo,\", type(num1),\".\")"
      ],
      "metadata": {
        "colab": {
          "base_uri": "https://localhost:8080/"
        },
        "id": "8yteYkKzVedW",
        "outputId": "cd5f5b12-965f-4132-f957-82629856b700"
      },
      "execution_count": null,
      "outputs": [
        {
          "output_type": "stream",
          "name": "stdout",
          "text": [
            "O valor de num1 é 1987 , sendo do tipo, <class 'int'> .\n"
          ]
        }
      ]
    },
    {
      "cell_type": "markdown",
      "source": [
        "7 - Peça para que o usuário digite um número, em seguida exiba em tela o número digitado."
      ],
      "metadata": {
        "id": "k8lrNlqfV-yW"
      }
    },
    {
      "cell_type": "code",
      "source": [
        "try:\n",
        "  numero = int(input(\"Digite um número inteiro: \"))\n",
        "  print(\"O número digitado foi,\",numero)\n",
        "except:\n",
        "  numeroerro = float(input(\"Eu disse para digitar um número inteiro: \"))\n",
        "  print(\"O número digitado foi,\",int(numeroerro))"
      ],
      "metadata": {
        "colab": {
          "base_uri": "https://localhost:8080/"
        },
        "id": "VAlBKzzaWbIr",
        "outputId": "93ff3440-ce7d-4a7e-9f57-fd63d47d558b"
      },
      "execution_count": null,
      "outputs": [
        {
          "output_type": "stream",
          "name": "stdout",
          "text": [
            "Digite um número inteiro: 3.2\n",
            "Eu disse para digitar um número inteiro: 4.7\n",
            "O número digitado foi, 4\n"
          ]
        }
      ]
    },
    {
      "cell_type": "markdown",
      "source": [
        "8 - Peça para que o usuário digite um número, em seguida o converta para float, exibindo em tela tanto o número em si quanto seu tipo de dado."
      ],
      "metadata": {
        "id": "-ptbVBRcH6yn"
      }
    },
    {
      "cell_type": "code",
      "source": [
        "num = input(\"Digite um número: \")\n",
        "num = float(num)\n",
        "print(f\"O número digitado foi {num} do tipo {type(num)}.\")"
      ],
      "metadata": {
        "colab": {
          "base_uri": "https://localhost:8080/"
        },
        "id": "LGku5zdbIOiu",
        "outputId": "31c1da7a-9ab6-49aa-b63a-582cd2ec816e"
      },
      "execution_count": null,
      "outputs": [
        {
          "output_type": "stream",
          "name": "stdout",
          "text": [
            "Digite um número: 47\n",
            "O número digitado foi 47.0 do tipo <class 'float'>.\n"
          ]
        }
      ]
    },
    {
      "cell_type": "markdown",
      "source": [
        "9 - Crie uma lista com 5 nomes de pessoas:"
      ],
      "metadata": {
        "id": "LP7tNLa-Iy6i"
      }
    },
    {
      "cell_type": "code",
      "source": [
        "nomes = [\"João\", \"Pablo\", \"Clarisse\", \"Jennifer\", \"Augusto\"]\n",
        "print(nomes)"
      ],
      "metadata": {
        "colab": {
          "base_uri": "https://localhost:8080/"
        },
        "id": "kkpjjD1eIyEf",
        "outputId": "4aa522f8-e3b1-48aa-df39-0df552df66e8"
      },
      "execution_count": null,
      "outputs": [
        {
          "output_type": "stream",
          "name": "stdout",
          "text": [
            "['João', 'Pablo', 'Clarisse', 'Jennifer', 'Augusto']\n"
          ]
        }
      ]
    },
    {
      "cell_type": "markdown",
      "source": [
        "10 - Mostre o tamanho da lista nomes/ o número de elementos da lista nomes: Mostre separadamente apenas o terceiro elemento dessa lista."
      ],
      "metadata": {
        "id": "v3KU_1CNJM8z"
      }
    },
    {
      "cell_type": "code",
      "source": [
        "print(f\"A lista nomes contém {len(nomes)} elementos.\")\n",
        "print(f\"O terceiro elemento da lista é {nomes[2]}.\")"
      ],
      "metadata": {
        "colab": {
          "base_uri": "https://localhost:8080/"
        },
        "id": "TYVsN9KAJWL6",
        "outputId": "f5a6c2da-68a3-42bd-99db-940ac1c87a14"
      },
      "execution_count": null,
      "outputs": [
        {
          "output_type": "stream",
          "name": "stdout",
          "text": [
            "A lista nomes contém 5 elementos.\n",
            "O terceiro elemento da lista é Clarisse.\n"
          ]
        }
      ]
    },
    {
      "cell_type": "markdown",
      "source": [
        "11 - Soma os valores das variáveis num1 e num2: Sendo num1 = 52 e num2 = 106. Por fim exiba em tela o resultado soma:"
      ],
      "metadata": {
        "id": "w4itWMl-KOA_"
      }
    },
    {
      "cell_type": "code",
      "source": [
        "num1, num2 = 52, 106\n",
        "print(f\"{num1} + {num2} = {num1 + num2}\")"
      ],
      "metadata": {
        "colab": {
          "base_uri": "https://localhost:8080/"
        },
        "id": "sVGBfgQYKeIR",
        "outputId": "54df75fa-5a87-4843-fc70-4b3777a83628"
      },
      "execution_count": null,
      "outputs": [
        {
          "output_type": "stream",
          "name": "stdout",
          "text": [
            "52 + 106 = 158\n"
          ]
        }
      ]
    },
    {
      "cell_type": "markdown",
      "source": [
        "12 - Some os valores das variáveis num1 e num2, atribuindo o resultado da soma a uma nova variável homônima. Exiba em tela o conteúdo dessa variável."
      ],
      "metadata": {
        "id": "LYNka2lkK66O"
      }
    },
    {
      "cell_type": "code",
      "source": [
        "num1, num2 = 52, 106\n",
        "soma = num1 + num2\n",
        "print(f\"{num1} + {num2} = {soma}\")"
      ],
      "metadata": {
        "colab": {
          "base_uri": "https://localhost:8080/"
        },
        "id": "TZ1TKpvALQKX",
        "outputId": "7cf57534-a703-49db-dee7-c8fef34b5aac"
      },
      "execution_count": null,
      "outputs": [
        {
          "output_type": "stream",
          "name": "stdout",
          "text": [
            "52 + 106 = 158\n"
          ]
        }
      ]
    },
    {
      "cell_type": "markdown",
      "source": [
        "13 - Subtraia os valores de num1 e num2:"
      ],
      "metadata": {
        "id": "_r0TiTw9Ly-k"
      }
    },
    {
      "cell_type": "code",
      "source": [
        "num1, num2 = 52, 106\n",
        "print(f\"{num1} - {num2} = {num1 - num2}\")"
      ],
      "metadata": {
        "colab": {
          "base_uri": "https://localhost:8080/"
        },
        "id": "5xo28jELL3tL",
        "outputId": "558f445d-fe92-4175-e9c3-de18855bcd10"
      },
      "execution_count": null,
      "outputs": [
        {
          "output_type": "stream",
          "name": "stdout",
          "text": [
            "52 - 106 = -54\n"
          ]
        }
      ]
    },
    {
      "cell_type": "markdown",
      "source": [
        "14 - Realize as operações de multiplicação e de divisão entre os valores das variáveis num1 e num2:"
      ],
      "metadata": {
        "id": "LKyrLQZsMDRY"
      }
    },
    {
      "cell_type": "code",
      "source": [
        "num1, num2 = 52, 106\n",
        "print(f\"{num1} x {num2} = {num1*num2}\")\n",
        "print(f\"{num1} / {num2} = {(num1/num2):.2f}\")"
      ],
      "metadata": {
        "colab": {
          "base_uri": "https://localhost:8080/"
        },
        "id": "nhbEXG-jMPPP",
        "outputId": "4e5d8af6-11ca-4351-e581-0e7c90bd288b"
      },
      "execution_count": null,
      "outputs": [
        {
          "output_type": "stream",
          "name": "stdout",
          "text": [
            "52 x 106 = 5512\n",
            "52 / 106 = 0.49\n"
          ]
        }
      ]
    },
    {
      "cell_type": "markdown",
      "source": [
        "15 - Eleve o valor de num1 a oitava potência, sendo num1 = 51:"
      ],
      "metadata": {
        "id": "-_ODr5V0M1Wu"
      }
    },
    {
      "cell_type": "code",
      "source": [
        "num1 = 51\n",
        "print(f\"{num1} ^ 8 = {num1**8}\")"
      ],
      "metadata": {
        "colab": {
          "base_uri": "https://localhost:8080/"
        },
        "id": "2uRuredfM-pZ",
        "outputId": "72d0e410-a838-43e2-c1d8-cc67335870c0"
      },
      "execution_count": null,
      "outputs": [
        {
          "output_type": "stream",
          "name": "stdout",
          "text": [
            "51 ^ 8 = 45767944570401\n"
          ]
        }
      ]
    },
    {
      "cell_type": "markdown",
      "source": [
        "16 - Escreva um programa que pede que o usuário dê entrada em dois valores, em seguida, exiba o resultado da soma, subtração, multiplicação e divisão desses números:"
      ],
      "metadata": {
        "id": "59LAY4veNTY4"
      }
    },
    {
      "cell_type": "code",
      "source": [
        "num1 = int(input(\"Digite um número inteiro: \"))\n",
        "num2 = int(input(\"Digite outro número inteiro: \"))\n",
        "\n",
        "soma = num1+num2\n",
        "subtracao = num1-num2\n",
        "multiplicacao = num1*num2\n",
        "divisao = float(num1)/float(num2)\n",
        "\n",
        "print(f\"{num1}+{num2}={soma}\")\n",
        "print(f\"{num1}-{num2}={subtracao}\")\n",
        "print(f\"{num1}x{num2}={multiplicacao}\")\n",
        "print(f\"{num1}/{num2}={divisao:.2f}\")"
      ],
      "metadata": {
        "colab": {
          "base_uri": "https://localhost:8080/"
        },
        "id": "x54hnTzpSuj4",
        "outputId": "84e31fce-f1d9-4544-ac04-f3d4d48645c8"
      },
      "execution_count": null,
      "outputs": [
        {
          "output_type": "stream",
          "name": "stdout",
          "text": [
            "Digite um número inteiro: 3\n",
            "Digite outro número inteiro: 5\n",
            "3+5=8\n",
            "3-5=-2\n",
            "3x5=15\n",
            "3/5=0.60\n"
          ]
        }
      ]
    },
    {
      "cell_type": "markdown",
      "source": [
        "17 - Dada duas variáveis num1 e num2 com valores 100 e 89, respectivamente, verifique se o valor de num1 é maior que o de num2."
      ],
      "metadata": {
        "id": "UydvnzvNT_jG"
      }
    },
    {
      "cell_type": "code",
      "source": [
        "num1, num2 = 100, 89\n",
        "print(f\"{num1}>{num2}={num1>num2}\")"
      ],
      "metadata": {
        "colab": {
          "base_uri": "https://localhost:8080/"
        },
        "id": "s1S686vCURJO",
        "outputId": "0be2808b-cd63-4dff-d646-4f36729a1d8f"
      },
      "execution_count": null,
      "outputs": [
        {
          "output_type": "stream",
          "name": "stdout",
          "text": [
            "100>89=True\n"
          ]
        }
      ]
    },
    {
      "cell_type": "markdown",
      "source": [
        "18 - Verifique se os valores de num1 e num2 são iguais."
      ],
      "metadata": {
        "id": "dFfesp7XUjUf"
      }
    },
    {
      "cell_type": "code",
      "source": [
        "num1, num2 = 100, 89\n",
        "print(f\"{num1}={num2}={num1==num2}\")"
      ],
      "metadata": {
        "colab": {
          "base_uri": "https://localhost:8080/"
        },
        "id": "CxExvYvLUrcN",
        "outputId": "c1332d11-1c8b-4873-e27d-e288baa7de8d"
      },
      "execution_count": null,
      "outputs": [
        {
          "output_type": "stream",
          "name": "stdout",
          "text": [
            "100=89=False\n"
          ]
        }
      ]
    },
    {
      "cell_type": "markdown",
      "source": [
        "19 - Verifique se os valores de num1 e num2 são diferentes."
      ],
      "metadata": {
        "id": "dlsZfHhfU5S3"
      }
    },
    {
      "cell_type": "code",
      "source": [
        "num1, num2 = 100, 89\n",
        "print(f\"{num1}<>{num2}={num1!=num2}\")"
      ],
      "metadata": {
        "colab": {
          "base_uri": "https://localhost:8080/"
        },
        "id": "GstHeLe1U-23",
        "outputId": "46768ab1-9d65-43d0-8dc9-1f7e139d3d38"
      },
      "execution_count": null,
      "outputs": [
        {
          "output_type": "stream",
          "name": "stdout",
          "text": [
            "100<>89=True\n"
          ]
        }
      ]
    },
    {
      "cell_type": "markdown",
      "source": [
        "20 - Verifique se o valor de num1 é igual ou menor a 100."
      ],
      "metadata": {
        "id": "ATNDItZBWStu"
      }
    },
    {
      "cell_type": "code",
      "source": [
        "num1 = 100\n",
        "print(f\"{num1}<=100={num1<=100}\")"
      ],
      "metadata": {
        "colab": {
          "base_uri": "https://localhost:8080/"
        },
        "id": "OODjzKTPWZ1n",
        "outputId": "f0488559-f7ea-4e4e-b628-8cdc2cb4c1ef"
      },
      "execution_count": null,
      "outputs": [
        {
          "output_type": "stream",
          "name": "stdout",
          "text": [
            "100<=100=True\n"
          ]
        }
      ]
    },
    {
      "cell_type": "markdown",
      "source": [
        "21 - Verifique se os valores de num1 e num2 são iguais ou menores que 100:"
      ],
      "metadata": {
        "id": "TWAQ_NVMjr7k"
      }
    },
    {
      "cell_type": "code",
      "source": [
        "num1, num2 = 100, 89\n",
        "print(f\"{num1}<=100 e {num2}<=100={num1 and num2 <= 100}\")"
      ],
      "metadata": {
        "colab": {
          "base_uri": "https://localhost:8080/"
        },
        "id": "warH9j5hj2AV",
        "outputId": "858d8377-b0a1-4447-f19d-40a17e37c96f"
      },
      "execution_count": null,
      "outputs": [
        {
          "output_type": "stream",
          "name": "stdout",
          "text": [
            "100<=100 e 89<=100=True\n"
          ]
        }
      ]
    },
    {
      "cell_type": "markdown",
      "source": [
        "22 - Verifique se os valores de num1 ou de num2 são iguais ou maiores que 100."
      ],
      "metadata": {
        "id": "d3QLA2R0kt6c"
      }
    },
    {
      "cell_type": "code",
      "source": [
        "num1, num2 = 100, 89\n",
        "print(f\"{num1}>={100} e {num2}>=100={num1 and num2 >= 100}\")"
      ],
      "metadata": {
        "colab": {
          "base_uri": "https://localhost:8080/"
        },
        "id": "NSg5AM2qk6Sn",
        "outputId": "33916088-0df8-4049-81cb-8fb58516bc67"
      },
      "execution_count": null,
      "outputs": [
        {
          "output_type": "stream",
          "name": "stdout",
          "text": [
            "100>=100 e 89>=100=False\n"
          ]
        }
      ]
    },
    {
      "cell_type": "markdown",
      "source": [
        "23 - Verifique se o valor de num1 consta nos elementos da num1. Sendo num1 = 100 e lista1 = {10, 100, 1000, 10000, 100000}"
      ],
      "metadata": {
        "id": "FwcLYVnpljOM"
      }
    },
    {
      "cell_type": "code",
      "source": [
        "num1 = 100\n",
        "lista1 = [10, 100, 1000, 10000, 100000]\n",
        "print(f\"{num1} pertence a lista1={num1 in lista1}\")"
      ],
      "metadata": {
        "colab": {
          "base_uri": "https://localhost:8080/"
        },
        "id": "m6yPdXrWlFDi",
        "outputId": "e9e05b59-1f96-40a0-8d1d-cda38ebc6ad7"
      },
      "execution_count": null,
      "outputs": [
        {
          "output_type": "stream",
          "name": "stdout",
          "text": [
            "100 pertence a lista1=True\n"
          ]
        }
      ]
    },
    {
      "cell_type": "markdown",
      "source": [
        "24 - Crie duas variáveis com dois valores numéricos inteiros digitados pelo usuário, caso o valor do primeiro número for maior que o do segundo, exiba em tela uma mensagem de acordo, caso contrario, exiba em tela uma mensagem dizendo que o primeiro valor digitado é menor que o segundo."
      ],
      "metadata": {
        "id": "jC6DfUvFmgpk"
      }
    },
    {
      "cell_type": "code",
      "source": [
        "num1 = int(input(\"Digite um número inteiro: \"))\n",
        "num2 = int(input(\"Digite outro número inteiro: \"))\n",
        "if (num1 > num2):\n",
        "  print(\"O primeiro número digitado e maior.\")\n",
        "else:\n",
        "  print(\"O segundo número digitado é maior\")"
      ],
      "metadata": {
        "colab": {
          "base_uri": "https://localhost:8080/"
        },
        "id": "AnV-ck92nMXy",
        "outputId": "fcf4d88b-b329-4f26-ce53-6c973b6ed829"
      },
      "execution_count": null,
      "outputs": [
        {
          "output_type": "stream",
          "name": "stdout",
          "text": [
            "Digite um número inteiro: 15\n",
            "Digite outro número inteiro: 65\n",
            "O segundo número digitado é maior\n"
          ]
        }
      ]
    },
    {
      "cell_type": "markdown",
      "source": [
        "25 - Peça para que o usuário digite um número, em seguida exiba em tela uma mensagem dizendo se tal número e PAR ou se IMPAR."
      ],
      "metadata": {
        "id": "o1E22HCNn1QP"
      }
    },
    {
      "cell_type": "code",
      "source": [
        "num = int(input(\"Digite um número: \"))\n",
        "if (num%2==0):\n",
        "  print(\"PAR\")\n",
        "else:\n",
        "  print(\"IMPAR\")"
      ],
      "metadata": {
        "colab": {
          "base_uri": "https://localhost:8080/"
        },
        "id": "Bl9q-cthoMzf",
        "outputId": "5efed25a-ea85-4638-b5f8-d8bb43bbae0c"
      },
      "execution_count": null,
      "outputs": [
        {
          "output_type": "stream",
          "name": "stdout",
          "text": [
            "Digite um número: 33\n",
            "IMPAR\n"
          ]
        }
      ]
    },
    {
      "cell_type": "markdown",
      "source": [
        "26 - Crie uma variável com valor inicial 0, enquanto o valor dessa variável for igual ou menos que 10, exiba em tela o proprio valor davariável. A cada execução a mesma deve ter seu valor atualizado, incrementado em 1 unidade."
      ],
      "metadata": {
        "id": "N53K2n9zyAKz"
      }
    },
    {
      "cell_type": "code",
      "source": [
        "contador = 0\n",
        "while contador <= 10:\n",
        "  print(f'O valor de contador é {contador}!')\n",
        "  contador += 1"
      ],
      "metadata": {
        "id": "6oFdhzANofEs",
        "colab": {
          "base_uri": "https://localhost:8080/"
        },
        "outputId": "206bb47b-4782-4141-fa40-f33ebfbe067b"
      },
      "execution_count": null,
      "outputs": [
        {
          "output_type": "stream",
          "name": "stdout",
          "text": [
            "O valor de contador é 0!\n",
            "O valor de contador é 1!\n",
            "O valor de contador é 2!\n",
            "O valor de contador é 3!\n",
            "O valor de contador é 4!\n",
            "O valor de contador é 5!\n",
            "O valor de contador é 6!\n",
            "O valor de contador é 7!\n",
            "O valor de contador é 8!\n",
            "O valor de contador é 9!\n",
            "O valor de contador é 10!\n"
          ]
        }
      ]
    },
    {
      "cell_type": "markdown",
      "source": [
        "27 - Crie uma estrutura de repetição que percorre a string 'Nikola Tesla', exibindo em tela letra por letra do seu nome:"
      ],
      "metadata": {
        "id": "-8dNkTA2y1Dz"
      }
    },
    {
      "cell_type": "code",
      "source": [
        "genio = 'Nikola Tesla'\n",
        "for letra in genio:\n",
        "  print(f'{letra}',end='')\n",
        "print()"
      ],
      "metadata": {
        "colab": {
          "base_uri": "https://localhost:8080/"
        },
        "id": "abIVSBQFzEcI",
        "outputId": "48c1bedb-eadb-494f-da98-465ea4baa540"
      },
      "execution_count": null,
      "outputs": [
        {
          "output_type": "stream",
          "name": "stdout",
          "text": [
            "Nikola Tesla\n"
          ]
        }
      ]
    },
    {
      "cell_type": "markdown",
      "source": [
        "28 -"
      ],
      "metadata": {
        "id": "Z9jyaC96zYZ0"
      }
    },
    {
      "cell_type": "markdown",
      "source": [
        "Crie uma lista com 8 elementos de uma lista de compras de supermercado, por meio de um laço de repetição for liste individualmente cada um dos itens dessa lista:"
      ],
      "metadata": {
        "id": "7LZdvVOzzaKX"
      }
    },
    {
      "cell_type": "code",
      "source": [
        "lista_compras = ['Arroz', 'Feijão', 'Azeite', 'Carne', 'Sal', 'Macarrão', 'Milho', 'Tomate']\n",
        "\n",
        "for item in lista_compras:\n",
        "  print(f'Você deve comprar: {item}.')"
      ],
      "metadata": {
        "colab": {
          "base_uri": "https://localhost:8080/"
        },
        "id": "pyyGlWQZztZM",
        "outputId": "0cc851fc-e1ef-46dd-a5b6-d2c8afa9c722"
      },
      "execution_count": null,
      "outputs": [
        {
          "output_type": "stream",
          "name": "stdout",
          "text": [
            "Você deve comprar: Arroz.\n",
            "Você deve comprar: Feijão.\n",
            "Você deve comprar: Azeite.\n",
            "Você deve comprar: Carne.\n",
            "Você deve comprar: Sal.\n",
            "Você deve comprar: Macarrão.\n",
            "Você deve comprar: Milho.\n",
            "Você deve comprar: Tomate.\n"
          ]
        }
      ]
    },
    {
      "cell_type": "markdown",
      "source": [
        "29 - Crie um programa que lê um valor de início e um valor de fim, exibindo em tela a contagem dos números dentro desse intervalo:"
      ],
      "metadata": {
        "id": "S9QbqJcM0Lga"
      }
    },
    {
      "cell_type": "code",
      "source": [
        "inicio = int(input('Digite um número inicial para iniciar a contagem: '))\n",
        "while True:\n",
        "  final = int(input(f'Digite um numero maior que {inicio} para finalizar a contagem: '))\n",
        "  if final > inicio:\n",
        "    break\n",
        "\n",
        "for contador in range(inicio, final+1, 1):\n",
        "  print(f'{contador}',end=', ')"
      ],
      "metadata": {
        "colab": {
          "base_uri": "https://localhost:8080/"
        },
        "id": "ehATuK_Y0ac7",
        "outputId": "3f0eb04b-c3cf-405a-8b1a-8eed4801362a"
      },
      "execution_count": null,
      "outputs": [
        {
          "output_type": "stream",
          "name": "stdout",
          "text": [
            "Digite um número inicial para iniciar a contagem: 2\n",
            "Digite um numero maior que 2 para finalizar a contagem: 7\n",
            "2, 3, 4, 5, 6, 7, "
          ]
        }
      ]
    },
    {
      "cell_type": "markdown",
      "source": [
        "30- Crie um programa que realiza a contagem de 0 a 20, exibindo apenas os números pares:"
      ],
      "metadata": {
        "id": "_Nl1V5_a13Wf"
      }
    },
    {
      "cell_type": "code",
      "source": [
        "for contador in range(0, 21):\n",
        "  if contador % 2 == 0:\n",
        "    print(f'O número {contador} é par.')"
      ],
      "metadata": {
        "colab": {
          "base_uri": "https://localhost:8080/"
        },
        "id": "5uwi5LUp2MYG",
        "outputId": "1867c009-7015-4989-be28-685d6b058819"
      },
      "execution_count": null,
      "outputs": [
        {
          "output_type": "stream",
          "name": "stdout",
          "text": [
            "O número 0 é par.\n",
            "O número 2 é par.\n",
            "O número 4 é par.\n",
            "O número 6 é par.\n",
            "O número 8 é par.\n",
            "O número 10 é par.\n",
            "O número 12 é par.\n",
            "O número 14 é par.\n",
            "O número 16 é par.\n",
            "O número 18 é par.\n",
            "O número 20 é par.\n"
          ]
        }
      ]
    },
    {
      "cell_type": "markdown",
      "source": [
        "31 - Crie um programa que realize a progressão aritmética de 20 elementos, com o primeiro termo e razão definidos pelo usuário:\n",
        "![image.png](data:image/png;base64,iVBORw0KGgoAAAANSUhEUgAAANYAAAAeCAYAAABQWOD3AAAABHNCSVQICAgIfAhkiAAACCZJREFUeF7tXGmIHEUUft2zhzcYDZ5J1hhF462oeJDDI4g3HgGNB1HQH6JRUdBsstO7G1cUNBpRMaioQSMqqHigETKbEIgiHoh3RJMYEQmJxCvZbLbb701X7fT2NT091b3Ts/2g2Z2qV1Xvfd2vXtV71V2gnJoYgZ47iaatJZqpE/X3N7GiAaoZ3UTTS0TnbiMqfRzAlBfnCNSCQO/FREWLqPu1Wlo1Hy/rzzgYF6apm5bmYPlYaSFw/3ii9m8x2g6icccQ3fFXWiM33jhP7kW0+RsibW+ilqOJOv9IQ0YsEXJqPgTaHyWy9icq3N6cRmXhuTVm4XoM14/h9++2f4DDXUTmvkSDD4fzqqvNPZY6LOvsiZcrTN113pO+o4gGvsMM/QUeupPrFKqBmndOIGq9CHphSWddgKu1IlwUzIzP0eYkeHJ4rfnfJ61Y7rGSRjj1/ndidmYyH0996EQHbNkIw3gael0Sbxhzsd1O4hOvl6itcsOKilQm+EotmNGvxzWASODLmRA5spDaOiL9CegGrzV9j8jNhhlnLrdxYXwYp2Qp8QGSFT/vfSQCa7BEMnfHA/g6DGtXc6FjHDlSn2KN6jEexrvA50qiVdif0fs1dlATe4Bh9Z4HAe5GTzPgfpkH0SVaQdS2II31aU0axGZuRh2HptlwWKurw2Isw729TvDPJuqBMXbNhVHehLJTMbvjQbSWIlR9D/43q/eXCY5+SAnD4ue6HsNyY3fYO0S/3Avs4A2pA7Yzx2VY7CJXPUe06wYXTLxRhEA7mf9yV53Cn3IDH6fLKBtY7ne0dYyjW+Q2UwTnzxFaODyAtQmz+UcwJEyoxG034+E4FH+xXytuwd8HIvSXBRaJi8QprswO7PR/iTYgMKIhKCLiT9S+zrXHWvUGKmFUHFFqOR9gF+zLFDMh7RlXksZp19Q6IurF1PpZBLwFL3MWEIbWOPeFnJdxOH7Pq7QvnBGhr4ywDHwqBD2lToEd2Gl9tkdvQVCF7YUn+M4vHR6r5xaiocvA9CE2h8ja85p0oRi/hGMx/fifN8VJUlSvE1eG0dYxikcO46mGj3aAPWvOh8fpDAGJ9yvOcDWzHngm0a3/2Y2GeOkvKWKAK0zuEFHKVdX0qtY+av2sP8VzvF/UFl4+D3bw9hOvIpoLzKS9YFFoN+SEm4k7oQ3CU93s3fiuFa7P+ts7UFZKxoSOYqKsticqHFu5a9pG7J2xvJdGxTUmTilIsvAwNgvJgI7VFl+jEdhhZSeNamSP4kYsmoUZbCIM602iBb95B92BJUI5b/m7ty4rJY2gY9jMrCpBHOV+DB4n7ieYzacQkOJ9lIP0qZX9go6HJwqF6RalfVZ4nNjpr9ieyiu7MCxTHFA0Ed3wI/0sG2jzE79adWVJLicaRUd1aHl7KkfyEGhi7xzmtQqYKGWgr/UHn34cG3HtJ299Vks4cNUP4bWd8TVwYheMjVw/d9gDtf4aMKDY7HH0KLM0BnS0xAHTPgQiwsg6sVKryQ29o4Hl2NxvT3gyDZNTdd0KnBdkslweupZxnNgFYyODF8LAtuMUsJvYylcjMsShxHMAcq+bQeHvRJcTCnRcsg/RNkRIBxEV0k+A4vDkxkEKAai3K162dUA+NoyABCh7s57J9v3kYJR76V++35Mq9X0ZXv674WxHfq4cEo8SNXU3xm83dsHYSMMS64I2DiO6gCxn8xFG1BC4yHQ2X4GOW7bZaPN+U+YsfPAfvSK5bIPhBFEXHi4d97NMiPa6aWWVejd/pn5LXGIub6thV8FCzOKWNKY5Xpg4BF+mhEPt3pHVlqjQUd+OhxL7UP0htbKp6q2w2u5Jk3lHn441p9Gt9zJoHY4yn3pviwyVzBCy9vvLzC9DysuPoxp2lTbCsLRX7SLrWhxrQdidXR4vCbpuhKfCMZcytfsNlZ0yFToWcfizeCmu+xpT77M/gNHD+C3IGHTQ1Jnw1X08lrPeXNOYesaRqowH8rOMz3Qcz/Mj6z1gJy6/+ujYCMMqlmBASAwzaYtgtUOIniCnpb2AgRDQ4EOdFnIbYa95914hXoFebvfThXxY91foC4kzAyF8Poc2mqRCxyTl5/1lvXtMXqpbfM8wCZZ8Vh8sv8VHlQSZm7waOev1BtpfccTYeTklD6uTfKVrbFysZfG3NNGxEYbFg49H9lh7CUYEo2LiZLH2PFaAp+Hs4CN2mXW6FNP7l+P7TObXMKS30PZZ/I8yvsnWwXZfxhRvuzRL6tUxTVnjjtW2xG6pz/PvQZtRKZ+00stTrd7bIhslOs49MrUtji9vXdjwMvAZn/ddjONxTGZCsFDDH+3YgJkXxtXLb3mir0WH2F6LZ5V0P+gRLGtcHZ09ylkyeJTRqzFetGf3rqtHT4ZGGnl4NQVc0iEObyki/vaAdQQ809tEU/EawmxHEq57K7wXcgitWIa4w7uKhk+9mzRPStSq3PDHZHAPxiHZO5Y/JsMpkq2cRtoNzx+OcmXqYzLlTP9ke2NYxF7LaVTlTSOU88uZ1PrA5PzREHgQh3ALeDeIl+BbsZwfy8T6l/dGCMSlY1SMtmOPVQ/4HN/nXJeFBLL7KA3nRbjOL2dSz5h523AEFiJCqPE+C5Ew/nDlWCSj19afv9JkBCTMk8GFvYkCGo7vr/d2pnWIMp86L3deohIBgwMZIpihst+s9GXwexyVdzlSFFuRx5Lxfb+8R1hdiprmQ+UIpIiAIo8l4/t+eY+wuhQ1VTKU3+l7Z1m9eSglQuadNAACijyWjO+H5UX86hoAgVyEHIEEEPgfiFBXGyaWCJwAAAAASUVORK5CYII=)"
      ],
      "metadata": {
        "id": "kyd4FMIQpxmf"
      }
    },
    {
      "cell_type": "code",
      "source": [
        "a1 = int(input('Qual o primeiro termo: '))\n",
        "r = int(input('Qual a razão: '))\n",
        "\n",
        "an = a1 + (20 - 1) * r\n",
        "\n",
        "for ax in range(a1, an+r, r):\n",
        "  print(ax, end=', ')"
      ],
      "metadata": {
        "colab": {
          "base_uri": "https://localhost:8080/"
        },
        "id": "WsN7vLg4qJRo",
        "outputId": "6021b876-dc86-4c5d-86da-24cb5301fe01"
      },
      "execution_count": null,
      "outputs": [
        {
          "output_type": "stream",
          "name": "stdout",
          "text": [
            "Qual o primeiro termo: 10\n",
            "Qual a razão: 3\n",
            "10, 13, 16, 19, 22, 25, 28, 31, 34, 37, 40, 43, 46, 49, 52, 55, 58, 61, 64, 67, "
          ]
        }
      ]
    },
    {
      "cell_type": "markdown",
      "source": [
        "32 - Crie um programa que exibe em tela a tabuada de um determinado número fornecido pelo usuário:"
      ],
      "metadata": {
        "id": "OEnvjXD8uCcE"
      }
    },
    {
      "cell_type": "code",
      "source": [
        "tab = int(input('Qual tabuada: '))\n",
        "\n",
        "for x in range(0, 11):\n",
        "  print(f'{tab} x {x} = {tab*x}')"
      ],
      "metadata": {
        "colab": {
          "base_uri": "https://localhost:8080/"
        },
        "id": "DKzprKv8ualy",
        "outputId": "2653784a-faf3-42b5-942f-33b6ba9da28d"
      },
      "execution_count": null,
      "outputs": [
        {
          "output_type": "stream",
          "name": "stdout",
          "text": [
            "Qual tabuada: 3\n",
            "3 x 0 = 0\n",
            "3 x 1 = 3\n",
            "3 x 2 = 6\n",
            "3 x 3 = 9\n",
            "3 x 4 = 12\n",
            "3 x 5 = 15\n",
            "3 x 6 = 18\n",
            "3 x 7 = 21\n",
            "3 x 8 = 24\n",
            "3 x 9 = 27\n",
            "3 x 10 = 30\n"
          ]
        }
      ]
    },
    {
      "cell_type": "markdown",
      "source": [
        "33 - Crie um programa que realiza a contagem regressiva de 20 segundos:"
      ],
      "metadata": {
        "id": "GKkeqcuovI65"
      }
    },
    {
      "cell_type": "code",
      "source": [
        "from time import sleep\n",
        "\n",
        "for i in range(20, -1, -1):\n",
        "  print(i)\n",
        "  sleep(1)\n",
        "print('Fim')"
      ],
      "metadata": {
        "colab": {
          "base_uri": "https://localhost:8080/"
        },
        "id": "a5Ht49hOvQeR",
        "outputId": "bfcbdb29-7d68-46ba-edd5-89ba84a59e78"
      },
      "execution_count": null,
      "outputs": [
        {
          "output_type": "stream",
          "name": "stdout",
          "text": [
            "20\n",
            "19\n",
            "18\n",
            "17\n",
            "16\n",
            "15\n",
            "14\n",
            "13\n",
            "12\n",
            "11\n",
            "10\n",
            "9\n",
            "8\n",
            "7\n",
            "6\n",
            "5\n",
            "4\n",
            "3\n",
            "2\n",
            "1\n",
            "0\n",
            "Fim\n"
          ]
        }
      ]
    },
    {
      "cell_type": "markdown",
      "source": [
        "34 - Crie um programa que realiza a contagem de 1 atê 100, usando apenas de números ímpares, ao final do processo exiba em tela quantos números ímpares foram encontrados nesse intervalo, assim como a soma dos mesmos:"
      ],
      "metadata": {
        "id": "o8-TdwI1drMH"
      }
    },
    {
      "cell_type": "code",
      "source": [
        "soma = 0\n",
        "cont = 0\n",
        "\n",
        "for i in range(1, 101):\n",
        "  if i % 2 == 1:\n",
        "    soma = soma + i\n",
        "    cont += 1\n",
        "print(f'Entre os números 1 e 100 há {cont} números ímpares sendo sua soma {soma}.')"
      ],
      "metadata": {
        "colab": {
          "base_uri": "https://localhost:8080/"
        },
        "id": "Ehb82GzggUMQ",
        "outputId": "de894ffc-3779-4b4c-c13c-477d1a7caa20"
      },
      "execution_count": 1,
      "outputs": [
        {
          "output_type": "stream",
          "name": "stdout",
          "text": [
            "Entre os números 1 e 100 há 50 números ímpares sendo sua soma 2500.\n"
          ]
        }
      ]
    }
  ]
}